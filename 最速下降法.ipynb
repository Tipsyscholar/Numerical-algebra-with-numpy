{
 "cells": [
  {
   "cell_type": "code",
   "execution_count": null,
   "id": "2b5e862d",
   "metadata": {},
   "outputs": [
    {
     "data": {
      "text/plain": [
       "array([[179.50977582],\n",
       "       [146.25951988],\n",
       "       [154.49158034],\n",
       "       [149.48393541],\n",
       "       [118.23537947],\n",
       "       [147.63511433],\n",
       "       [160.14658643],\n",
       "       [120.70252224],\n",
       "       [153.20668459],\n",
       "       [213.69440303]])"
      ]
     },
     "execution_count": 5,
     "metadata": {},
     "output_type": "execute_result"
    }
   ],
   "source": [
    "import numpy as np\n",
    "solution=np.random.rand(10,1)\n",
    "A=np.random.rand(10,10)\n",
    "A=10*A.T@A\n",
    "b=A@solution\n",
    "r=b-A@solution"
   ]
  },
  {
   "cell_type": "code",
   "execution_count": null,
   "id": "ef3054da",
   "metadata": {},
   "outputs": [],
   "source": [
    "while(r.T@r>1e-8):\n"
   ]
  }
 ],
 "metadata": {
  "kernelspec": {
   "display_name": "base",
   "language": "python",
   "name": "python3"
  },
  "language_info": {
   "codemirror_mode": {
    "name": "ipython",
    "version": 3
   },
   "file_extension": ".py",
   "mimetype": "text/x-python",
   "name": "python",
   "nbconvert_exporter": "python",
   "pygments_lexer": "ipython3",
   "version": "3.10.9"
  }
 },
 "nbformat": 4,
 "nbformat_minor": 5
}
