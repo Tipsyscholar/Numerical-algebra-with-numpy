{
 "cells": [
  {
   "cell_type": "code",
   "execution_count": 13,
   "id": "2b5e862d",
   "metadata": {},
   "outputs": [
    {
     "data": {
      "text/plain": [
       "array([[ 5.24896334e-08],\n",
       "       [-1.12312940e-07],\n",
       "       [ 1.37339256e-07],\n",
       "       [ 3.19231549e-08],\n",
       "       [-1.79998198e-07],\n",
       "       [ 8.16415716e-08],\n",
       "       [ 1.06295451e-07],\n",
       "       [ 4.27146134e-08],\n",
       "       [-3.43761257e-08],\n",
       "       [-1.62015880e-07]])"
      ]
     },
     "execution_count": 13,
     "metadata": {},
     "output_type": "execute_result"
    }
   ],
   "source": [
    "import numpy as np\n",
    "solution=np.random.rand(10,1)\n",
    "A=np.random.rand(10,10)\n",
    "A=10*A.T@A\n",
    "b=A@solution\n",
    "x_solve=np.random.rand(10,1)#随机初始化\n",
    "r=b-np.matmul(A,x_solve)\n",
    "while(np.max(r)>1e-8):\n",
    "    alpha=np.matmul(r.T,r)/np.matmul(r.T,np.matmul(A,r))\n",
    "    x_solve+=alpha*r\n",
    "    r=b-A@x_solve\n",
    "solution-x_solve"
   ]
  }
 ],
 "metadata": {
  "kernelspec": {
   "display_name": "base",
   "language": "python",
   "name": "python3"
  },
  "language_info": {
   "codemirror_mode": {
    "name": "ipython",
    "version": 3
   },
   "file_extension": ".py",
   "mimetype": "text/x-python",
   "name": "python",
   "nbconvert_exporter": "python",
   "pygments_lexer": "ipython3",
   "version": "3.10.9"
  }
 },
 "nbformat": 4,
 "nbformat_minor": 5
}
