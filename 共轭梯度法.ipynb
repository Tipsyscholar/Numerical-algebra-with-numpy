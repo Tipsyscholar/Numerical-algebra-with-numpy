{
 "cells": [
  {
   "cell_type": "code",
   "execution_count": null,
   "id": "f1423daa",
   "metadata": {},
   "outputs": [
    {
     "data": {
      "text/plain": [
       "array([[ 2.02282635e-13],\n",
       "       [-1.54454227e-12],\n",
       "       [-9.96536187e-13],\n",
       "       [-2.26485497e-14],\n",
       "       [ 2.01005879e-12],\n",
       "       [ 8.50652881e-13],\n",
       "       [-6.72091072e-13],\n",
       "       [ 6.83120227e-13],\n",
       "       [ 8.62088179e-14],\n",
       "       [-8.68083383e-13]])"
      ]
     },
     "execution_count": 55,
     "metadata": {},
     "output_type": "execute_result"
    }
   ],
   "source": [
    "import numpy as np\n",
    "solution=np.random.rand(10,1)\n",
    "A=np.random.rand(10,10)\n",
    "A=10*A.T@A\n",
    "b=A@solution\n",
    "x_solve=np.random.rand(10,1)#随机初始化\n",
    "r=b-A@x_solve\n",
    "rho=(r.T@r).item()\n",
    "kmax=1000\n",
    "k=0\n",
    "while(np.linalg.norm(r)>1e-10 and k<kmax):\n",
    "    k += 1\n",
    "    if(k==1):\n",
    "        p=r\n",
    "    else:\n",
    "        beta=rho/tilde_rho\n",
    "        p=r+beta*p\n",
    "    w=A@p\n",
    "    alpha=rho/(p.T@w).item()\n",
    "    x_solve+=alpha*p\n",
    "    r-=alpha*w\n",
    "    tilde_rho=rho\n",
    "    rho=(r.T@r).item()\n",
    "solution-x_solve"
   ]
  }
 ],
 "metadata": {
  "kernelspec": {
   "display_name": "base",
   "language": "python",
   "name": "python3"
  },
  "language_info": {
   "codemirror_mode": {
    "name": "ipython",
    "version": 3
   },
   "file_extension": ".py",
   "mimetype": "text/x-python",
   "name": "python",
   "nbconvert_exporter": "python",
   "pygments_lexer": "ipython3",
   "version": "3.10.9"
  }
 },
 "nbformat": 4,
 "nbformat_minor": 5
}
